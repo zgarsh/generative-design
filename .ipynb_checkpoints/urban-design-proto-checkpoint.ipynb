{
 "cells": [
  {
   "cell_type": "code",
   "execution_count": 1,
   "metadata": {},
   "outputs": [],
   "source": [
    "import matplotlib.pyplot as plt"
   ]
  },
  {
   "cell_type": "code",
   "execution_count": 7,
   "metadata": {},
   "outputs": [
    {
     "data": {
      "image/png": "[encoded data removed]",
      "text/plain": [
       "<Figure size 432x288 with 1 Axes>"
      ]
     },
     "metadata": {
      "needs_background": "light"
     },
     "output_type": "display_data"
    }
   ],
   "source": [
    "plt.axes()\n",
    "circle = plt.Circle((0,0), radius=0.75, fc='y')\n",
    "plt.gca().add_patch(circle)\n",
    "plt.axis('scaled')\n",
    "plt.show()"
   ]
  },
  {
   "cell_type": "code",
   "execution_count": 11,
   "metadata": {},
   "outputs": [
    {
     "data": {
      "image/png": "[encoded data removed]",
      "text/plain": [
       "<Figure size 432x288 with 1 Axes>"
      ]
     },
     "metadata": {
      "needs_background": "light"
     },
     "output_type": "display_data"
    }
   ],
   "source": [
    "rectangle = plt.Rectangle((10, 10), 100, 100, fc='r')\n",
    "plt.gca().add_patch(rectangle)\n",
    "circle = plt.Circle((0,0), radius=75, fc='y')\n",
    "plt.gca().add_patch(circle)\n",
    "plt.axis('scaled')\n",
    "plt.show()"
   ]
  },
  {
   "cell_type": "markdown",
   "metadata": {},
   "source": [
    "## Matrix approach"
   ]
  },
  {
   "cell_type": "code",
   "execution_count": 30,
   "metadata": {},
   "outputs": [],
   "source": [
    "import numpy as np\n",
    "import random\n",
    "import string # only needed temporarily for debugging"
   ]
  },
  {
   "cell_type": "code",
   "execution_count": 41,
   "metadata": {},
   "outputs": [],
   "source": [
    "def get_random_land_type():\n",
    "    num = random.randint(1,3)\n",
    "    enum = {\n",
    "        1: 'O',\n",
    "        2: 'X',\n",
    "        3: ' '\n",
    "    }\n",
    "    return enum[num]\n",
    "#     return random.choice(string.ascii_letters)\n",
    "\n",
    "\n",
    "\n",
    "def create_random_matrix(rows, cols):\n",
    "    \n",
    "    array = np.full((rows, cols), 'P')\n",
    "    \n",
    "    i = 0\n",
    "    \n",
    "    for value in np.nditer(array, op_flags=['readwrite']):\n",
    "        value[...] = get_random_land_type()\n",
    "        \n",
    "    return array"
   ]
  },
  {
   "cell_type": "code",
   "execution_count": 46,
   "metadata": {},
   "outputs": [],
   "source": [
    "mytown = create_random_matrix(10, 10)"
   ]
  },
  {
   "cell_type": "code",
   "execution_count": 47,
   "metadata": {
    "scrolled": false
   },
   "outputs": [],
   "source": [
    "def get_neighbors(array, i, j):\n",
    "    mylist = []\n",
    "    array_rows = len(array)\n",
    "    array_cols = len(array[0])\n",
    "    \n",
    "    neighbor_positions = [(-1, -1), (-1, 0), (-1, 1), (0, -1), (0, 1), (1, -1), (1, 0), (1, 1)]\n",
    "    \n",
    "    for relative_position in neighbor_positions:\n",
    "        try:\n",
    "            if i + relative_position[0] >=0 and j + relative_position[1] >= 0:\n",
    "                value = array[i + relative_position[0]][j + relative_position[1]]\n",
    "                mylist.append(value)\n",
    "        except:\n",
    "            pass\n",
    "    \n",
    "    return mylist"
   ]
  },
  {
   "cell_type": "code",
   "execution_count": 48,
   "metadata": {},
   "outputs": [
    {
     "name": "stdout",
     "output_type": "stream",
     "text": [
      "[['O' ' ' 'X' ' ' 'X' 'X' 'X' 'X' 'X' 'X']\n",
      " ['X' ' ' 'O' 'X' 'X' 'O' ' ' 'X' 'O' ' ']\n",
      " [' ' 'O' 'X' ' ' 'X' ' ' ' ' 'O' 'X' ' ']\n",
      " ['X' ' ' ' ' 'X' ' ' 'O' ' ' ' ' ' ' 'O']\n",
      " [' ' ' ' 'X' 'X' 'X' 'O' ' ' 'X' 'O' 'O']\n",
      " ['X' 'O' ' ' 'X' 'O' 'X' 'X' ' ' 'O' ' ']\n",
      " ['O' 'O' ' ' 'O' 'O' ' ' 'O' 'X' ' ' 'X']\n",
      " ['X' 'X' ' ' 'O' ' ' ' ' 'O' ' ' 'O' ' ']\n",
      " ['X' 'X' 'X' 'O' 'O' 'O' 'O' 'O' 'O' ' ']\n",
      " ['X' 'O' 'X' 'O' 'X' 'O' 'O' 'O' 'X' 'X']]\n"
     ]
    }
   ],
   "source": [
    "print(mytown)"
   ]
  },
  {
   "cell_type": "code",
   "execution_count": 49,
   "metadata": {},
   "outputs": [],
   "source": [
    "def score_road_cell(neighbors):\n",
    "    \"\"\" roads receive points for contacting up to two other roads \"\"\"\n",
    "    \n",
    "    count_road_neighbors = 0\n",
    "    for neighbor in neighbors:\n",
    "        while count_road_neighbors <= 2:\n",
    "            if neighbor == 'X':\n",
    "                count_road_neighbors += 1\n",
    "    \n",
    "    return count_road_neighbors"
   ]
  },
  {
   "cell_type": "code",
   "execution_count": 52,
   "metadata": {},
   "outputs": [],
   "source": [
    "nextdoor = get_neighbors(mytown, 9, 3)"
   ]
  },
  {
   "cell_type": "code",
   "execution_count": 53,
   "metadata": {},
   "outputs": [
    {
     "data": {
      "text/plain": [
       "['X', 'O', 'O', 'X', 'X']"
      ]
     },
     "execution_count": 53,
     "metadata": {},
     "output_type": "execute_result"
    }
   ],
   "source": [
    "nextdoor"
   ]
  },
  {
   "cell_type": "code",
   "execution_count": null,
   "metadata": {},
   "outputs": [],
   "source": []
  }
 ],
 "metadata": {
  "kernelspec": {
   "display_name": "Python 2",
   "language": "python",
   "name": "python2"
  },
  "language_info": {
   "codemirror_mode": {
    "name": "ipython",
    "version": 2
   },
   "file_extension": ".py",
   "mimetype": "text/x-python",
   "name": "python",
   "nbconvert_exporter": "python",
   "pygments_lexer": "ipython2",
   "version": "2.7.16"
  }
 },
 "nbformat": 4,
 "nbformat_minor": 2
}
