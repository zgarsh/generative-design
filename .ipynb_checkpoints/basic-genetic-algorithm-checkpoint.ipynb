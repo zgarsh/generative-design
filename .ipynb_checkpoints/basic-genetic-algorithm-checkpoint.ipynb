{
 "cells": [
  {
   "cell_type": "code",
   "execution_count": 2,
   "metadata": {},
   "outputs": [],
   "source": [
    "from fuzzywuzzy import fuzz\n",
    "import random\n",
    "import string"
   ]
  },
  {
   "cell_type": "markdown",
   "metadata": {},
   "source": [
    "First, a simple function to create N random strings and select the one that is closest to the target string"
   ]
  },
  {
   "cell_type": "code",
   "execution_count": 103,
   "metadata": {},
   "outputs": [],
   "source": [
    "def shotgun_approach(population_size, target_string):\n",
    "    \n",
    "    string_length = len(target_string)\n",
    "    \n",
    "    def new_member(length):\n",
    "        letters = string.ascii_lowercase\n",
    "        member = ''.join(random.choice(letters) for i in range(length))\n",
    "        return member\n",
    "    \n",
    "    members = []\n",
    "    \n",
    "    for i in range(population_size):\n",
    "        members.append(new_member(string_length))\n",
    "        \n",
    "    best_string = members[0]\n",
    "    best_score = fuzz.ratio(members[0], target_string)\n",
    "    \n",
    "    for i in members:\n",
    "        score = fuzz.ratio(i, target_string)\n",
    "        if score > best_score:\n",
    "            best_score = score\n",
    "            best_string = i\n",
    "    \n",
    "    return best_string, best_score\n",
    "    "
   ]
  },
  {
   "cell_type": "code",
   "execution_count": 34,
   "metadata": {},
   "outputs": [
    {
     "data": {
      "text/plain": [
       "'nssgyvjuwt'"
      ]
     },
     "execution_count": 34,
     "metadata": {},
     "output_type": "execute_result"
    }
   ],
   "source": [
    "''.join(random.choice(letters) for i in range(10))"
   ]
  },
  {
   "cell_type": "code",
   "execution_count": 104,
   "metadata": {
    "scrolled": true
   },
   "outputs": [
    {
     "data": {
      "text/plain": [
       "('potatv', 83)"
      ]
     },
     "execution_count": 104,
     "metadata": {},
     "output_type": "execute_result"
    }
   ],
   "source": [
    "shotgun_approach(1000000, 'potato')"
   ]
  },
  {
   "cell_type": "markdown",
   "metadata": {},
   "source": [
    "Now, let's try for the real thing!"
   ]
  },
  {
   "cell_type": "markdown",
   "metadata": {},
   "source": [
    "# Components of the genetic algorithm:\n",
    "[source](https://towardsdatascience.com/introduction-to-genetic-algorithms-including-example-code-e396e98d8bf3)\n",
    "\n",
    "## 1: Initial population\n",
    "This is an initial set of possible solutions to your problem, or members of the population. Each is unique, and the population has a fixed size. this means that as new members are created, less fit ones 'die'.\n",
    "\n",
    "## 2: Fitness function\n",
    "A function that evaluates the fitness of a member based on some criteria, eg. how close a string is to your target string. This should output a continuous score rather than a binary value.\n",
    "\n",
    "[manatee, cat, parakeet, cheetah] => [1, 3, 7, 9]\n",
    "\n",
    "## 3: Selection\n",
    "The process of running the fitness function and choosing the fittest individuals (survival of the fittest)\n",
    "\n",
    "[1, 3, 7, 9] => [9, 7]\n",
    "\n",
    "## 4: Crossover\n",
    "Analogous to recombination in biology - this is the random selection of a crossover point between two individuals, \n",
    "\n",
    "AAAAA + BBBBB = [AABBB, BBAAA]\n",
    "\n",
    "## 5: Mutation\n",
    "In newly formed offspring, some 'genes' can be subject to mutation with a low random probability. This serves to maintain diversity and prevent premature convergence.\n",
    "\n",
    "AABBB => ABABB\n",
    "\n",
    "### Termination\n",
    "The algorithm ends when the population has **converged**, meaning subsequent generations do not produce significantly different offspring."
   ]
  },
  {
   "cell_type": "code",
   "execution_count": 497,
   "metadata": {},
   "outputs": [],
   "source": [
    "\n",
    "target = 'abigail'\n",
    "word_length = len(target)\n",
    "population_size = 100\n",
    "\n",
    "\n",
    "\n",
    "class Member:\n",
    "    def __init__(self, length):\n",
    "        letters = string.ascii_lowercase\n",
    "        self.ztext = ''.join(random.choice(letters) for i in range(length))\n",
    "        self.fitness = -1\n",
    "        \n",
    "def snapshot(population):\n",
    "    for i in range(10):\n",
    "        print(population[i].ztext, population[i].fitness)\n",
    "\n",
    "def initial_population():\n",
    "    \n",
    "    def new_member(word_length):\n",
    "        return Member(word_length)\n",
    "    \n",
    "    population = []\n",
    "    \n",
    "    for i in range(population_size):\n",
    "        newmember = new_member(word_length)\n",
    "        population.append(newmember)\n",
    "        \n",
    "    return population\n",
    "\n",
    "\n",
    "def fitness(population):\n",
    "    for i in population:\n",
    "        i.fitness = fuzz.ratio(i.ztext, target)\n",
    "    sorted_population = sorted(population, key=lambda member: member.fitness, reverse=True)\n",
    "    return sorted_population\n",
    "\n",
    "\n",
    "def selection(population):\n",
    "#     returns the fittest 20% of the population\n",
    "    population = population[:int(0.2 * len(population))]\n",
    "    return population\n",
    "\n",
    "\n",
    "def crossover(population):\n",
    "#     randomly selects two parents, randomly selects a crossover location, and then crosses\n",
    "#     them and creates a new member from the resulting string. repeats until population\n",
    "#     is back to desired size\n",
    "    \n",
    "    while len(population) < population_size:\n",
    "    \n",
    "        parent1 = random.choice(population).ztext\n",
    "        parent2 = random.choice(population).ztext\n",
    "        slicer = random.randint(0, word_length-1)\n",
    "        childtext = parent1[:slicer] + parent2[slicer:]\n",
    "\n",
    "        new_member = Member(word_length)\n",
    "        new_member.ztext = childtext\n",
    "\n",
    "        population.append(new_member)\n",
    "    \n",
    "#         print(parent1, parent2, slicer, childtext)\n",
    "\n",
    "    return population\n",
    "\n",
    "def mutate(population):\n",
    "    "
   ]
  },
  {
   "cell_type": "code",
   "execution_count": 509,
   "metadata": {},
   "outputs": [],
   "source": [
    "zpop = initial_population()"
   ]
  },
  {
   "cell_type": "code",
   "execution_count": 510,
   "metadata": {},
   "outputs": [],
   "source": [
    "for i in range(100):\n",
    "    zpop = selection(zpop)\n",
    "    zpop = crossover(zpop)\n",
    "    zpop = fitness(zpop)"
   ]
  },
  {
   "cell_type": "code",
   "execution_count": 511,
   "metadata": {
    "scrolled": false
   },
   "outputs": [
    {
     "name": "stdout",
     "output_type": "stream",
     "text": [
      "('aaicttl', 57)\n",
      "('aeipilg', 57)\n",
      "('jagpilg', 57)\n",
      "('aeipilg', 57)\n",
      "('jagpilg', 57)\n",
      "('ahipilg', 57)\n",
      "('ahifilg', 57)\n",
      "('ahipilg', 57)\n",
      "('ahioilg', 57)\n",
      "('jagpilg', 57)\n"
     ]
    }
   ],
   "source": [
    "snapshot(zpop)"
   ]
  },
  {
   "cell_type": "code",
   "execution_count": null,
   "metadata": {},
   "outputs": [],
   "source": []
  }
 ],
 "metadata": {
  "kernelspec": {
   "display_name": "Python 2",
   "language": "python",
   "name": "python2"
  },
  "language_info": {
   "codemirror_mode": {
    "name": "ipython",
    "version": 2
   },
   "file_extension": ".py",
   "mimetype": "text/x-python",
   "name": "python",
   "nbconvert_exporter": "python",
   "pygments_lexer": "ipython2",
   "version": "2.7.16"
  }
 },
 "nbformat": 4,
 "nbformat_minor": 2
}
